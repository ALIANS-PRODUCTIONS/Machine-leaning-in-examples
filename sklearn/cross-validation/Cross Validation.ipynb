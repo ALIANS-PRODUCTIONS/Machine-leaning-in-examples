{
 "cells": [
  {
   "cell_type": "markdown",
   "metadata": {},
   "source": [
    "# Cross Validation\n",
    "Cross validation is an important topic in the `Machine Learning` to ensure that our model is robust enough. Traditional training strategy is using 3 parts of the dataset for training, testing a validation.\n",
    "\n",
    "* training set - is used to train the model and optimaze the hyperparameters of the model\n",
    "* testing set - is used to evalutate that the model generalize enough to correctly work on data it was not trained on. However through the person doing the optimazation some knoweldge about the test set eventually leaks into the model.\n",
    "* validation set - for that reason we use validation set which is used as the final check that model is able to generalize with previously unknown data.\n",
    "\n",
    "Creating these sets limit the number of data which are used for the training and that can decrease the model's ability to learn. Cross validation allows to make a robust model by spliting the training data into `k` subsets. Each subsets uses part of it's data for training and part to test. Next subset uses different split of train and test data as you can see on the picture below. This is more intensive on the resources, but allow you to use mode data for training.\n",
    "\n",
    "![](Cross_Validation.jpg \"Cross validation folds\")\n",
    "\n",
    "You can also be sure that your model is able to generalize, in case each of the fold has similar performace. If one (or more) fold is achieving really for score while others perform badly, you need to think more about the way how you split the data. You will see examples of this below. \n",
    "\n",
    "`Scikit Learn` is favorite python library to perform many machine learning operations and it brings many methods which helps to split the data into training, testing and validation set. The most popular which we will review in this tutorial are: \n",
    "\n",
    "* train_test_split - creates single split into train and test set.\n",
    "* Kfold - creates k-fold splits allowing cross validation\n",
    "* StratifiedKFold - creates k-fold splits considering the distribution of the target variable\n",
    "* cross_val_score - evaluta model's score through cross validation\n",
    "\n",
    "You should be aware that cross-validation is however not suitable for all the occasions and you should think wisely how you split the data.\n",
    "\n",
    "More about cross validaiton:\n",
    "* https://scikit-learn.org/stable/modules/cross_validation.html\n",
    "* https://en.wikipedia.org/wiki/Cross-validation_(statistics)"
   ]
  },
  {
   "cell_type": "markdown",
   "metadata": {},
   "source": [
    "Let's have a look at some real usecases. We will first split simple **range of 25 numbers** and then we will look at popular **Iris dataset** which uses petal and sepal measurements to predict which kind of Iris flower it is. "
   ]
  },
  {
   "cell_type": "code",
   "execution_count": 37,
   "metadata": {},
   "outputs": [],
   "source": [
    "# Import scikit-learn libraries\n",
    "from sklearn.model_selection import KFold, StratifiedKFold, train_test_split, cross_validate, cross_val_score\n",
    "from sklearn.datasets import load_iris, load_boston\n",
    "from sklearn.linear_model import LogisticRegression\n",
    "from sklearn.metrics import accuracy_score, classification_report\n",
    "\n",
    "# import libraries for charting and manipulations with datasets\n",
    "import matplotlib.pyplot as plt\n",
    "import pandas as pd\n",
    "import numpy as np\n",
    "import random"
   ]
  },
  {
   "cell_type": "code",
   "execution_count": 38,
   "metadata": {},
   "outputs": [],
   "source": [
    "# create the range 1 to 25\n",
    "rn = range(1,26)"
   ]
  },
  {
   "cell_type": "markdown",
   "metadata": {},
   "source": [
    "Let's start with the Kfold method which splits the train set into k-folds so that each sample is used once for testing and k-1 times for training. "
   ]
  },
  {
   "cell_type": "code",
   "execution_count": 39,
   "metadata": {},
   "outputs": [],
   "source": [
    "# to demonstrate how the data are split, we will create 3 and 5 folds. \n",
    "# KFold function has to be applied on the data and it returns an location (index) of the train and test samples.\n",
    "kf5 = KFold(n_splits=5, shuffle=False)\n",
    "kf3 = KFold(n_splits=3, shuffle=False)"
   ]
  },
  {
   "cell_type": "code",
   "execution_count": 40,
   "metadata": {},
   "outputs": [
    {
     "name": "stdout",
     "output_type": "stream",
     "text": [
      "[ 9 10 11 12 13 14 15 16 17 18 19 20 21 22 23 24] [0 1 2 3 4 5 6 7 8]\n",
      "[ 0  1  2  3  4  5  6  7  8 17 18 19 20 21 22 23 24] [ 9 10 11 12 13 14 15 16]\n",
      "[ 0  1  2  3  4  5  6  7  8  9 10 11 12 13 14 15 16] [17 18 19 20 21 22 23 24]\n"
     ]
    }
   ],
   "source": [
    "# the Kfold function retunrs the indices of the data. Our range goes from 1-25 so the index is 0-24\n",
    "for train_index, test_index in kf3.split(rn):\n",
    "    print(train_index, test_index)"
   ]
  },
  {
   "cell_type": "code",
   "execution_count": 41,
   "metadata": {},
   "outputs": [
    {
     "name": "stdout",
     "output_type": "stream",
     "text": [
      "[10 11 12 13 14 15 16 17 18 19 20 21 22 23 24 25] [1 2 3 4 5 6 7 8 9]\n",
      "[ 1  2  3  4  5  6  7  8  9 18 19 20 21 22 23 24 25] [10 11 12 13 14 15 16 17]\n",
      "[ 1  2  3  4  5  6  7  8  9 10 11 12 13 14 15 16 17] [18 19 20 21 22 23 24 25]\n"
     ]
    }
   ],
   "source": [
    "# to get the values from our data, we use np.take() to access a value at particular index\n",
    "for train_index, test_index in kf3.split(rn):\n",
    "    print(np.take(rn,train_index), np.take(rn,test_index))"
   ]
  },
  {
   "cell_type": "markdown",
   "metadata": {},
   "source": [
    "## Chart the cross validation split"
   ]
  },
  {
   "cell_type": "code",
   "execution_count": 42,
   "metadata": {},
   "outputs": [],
   "source": [
    "# Let's split our test range into 5 and3  folds and display the splits on the chart.\n",
    "# In order to clearly show which data belongs to each set, we will shift the values by -.1 and +.1\n",
    "# the first fold will contain values 0.9 in train and 1.1 in the test set, second 1.9 and 2.1, etc.\n",
    "# we will also give each sets the different color\n",
    "# because we will repeat this exercise for the shuffled version, let's create a function \n",
    "\n",
    "def kfoldize(kf, rn, shift=.1):\n",
    "    train = pd.DataFrame()\n",
    "    test = pd.DataFrame()\n",
    "    i = 1\n",
    "    for train_index, test_index in kf.split(rn):\n",
    "        train_df = pd.DataFrame(np.take(rn, train_index), columns=[\"x\"])\n",
    "        train_df[\"val\"] = i - shift\n",
    "        train = train.append(train_df)\n",
    "\n",
    "        test_df = pd.DataFrame(np.take(rn, test_index), columns=[\"x\"])\n",
    "        test_df[\"val\"] = i + shift\n",
    "        test = test.append(test_df)\n",
    "        i += 1\n",
    "    return train, test"
   ]
  },
  {
   "cell_type": "code",
   "execution_count": 43,
   "metadata": {},
   "outputs": [
    {
     "data": {
      "image/png": "[encoded data removed]",
      "text/plain": [
       "<Figure size 1080x360 with 2 Axes>"
      ]
     },
     "metadata": {
      "needs_background": "light"
     },
     "output_type": "display_data"
    }
   ],
   "source": [
    "train5, test5 = kfoldize(kf5,rn)\n",
    "train3, test3 = kfoldize(kf3,rn)\n",
    "\n",
    "fig,ax = plt.subplots(1,2, figsize=(15,5))\n",
    "ax[0].scatter(x=\"x\",y=\"val\",c=\"b\",label=\"train\",s=15,data=train5)\n",
    "ax[0].scatter(x=\"x\",y=\"val\",c=\"r\",label=\"test\",s=15,data=test5)\n",
    "ax[1].scatter(x=\"x\",y=\"val\",c=\"b\",label=\"train\",s=15,data=train3)\n",
    "ax[1].scatter(x=\"x\",y=\"val\",c=\"r\",label=\"test\",s=15,data=test3)\n",
    "ax[0].set_ylabel(\"Kfold\")\n",
    "ax[0].set_xlabel(\"feature\")\n",
    "ax[1].set_xlabel(\"feature\")\n",
    "ax[0].set_title(\"5 Folds\")\n",
    "ax[1].set_title(\"3 Folds\")\n",
    "plt.suptitle(\"Kfold split between train and test features\")\n",
    "plt.legend(bbox_to_anchor=(1.05, 1))\n",
    "plt.show()"
   ]
  },
  {
   "cell_type": "code",
   "execution_count": 44,
   "metadata": {},
   "outputs": [
    {
     "data": {
      "text/html": [
       "<div>\n",
       "<style scoped>\n",
       "    .dataframe tbody tr th:only-of-type {\n",
       "        vertical-align: middle;\n",
       "    }\n",
       "\n",
       "    .dataframe tbody tr th {\n",
       "        vertical-align: top;\n",
       "    }\n",
       "\n",
       "    .dataframe thead th {\n",
       "        text-align: right;\n",
       "    }\n",
       "</style>\n",
       "<table border=\"1\" class=\"dataframe\">\n",
       "  <thead>\n",
       "    <tr style=\"text-align: right;\">\n",
       "      <th></th>\n",
       "      <th>Train5</th>\n",
       "      <th>Test5</th>\n",
       "      <th>Train3</th>\n",
       "      <th>Test3</th>\n",
       "    </tr>\n",
       "  </thead>\n",
       "  <tbody>\n",
       "    <tr>\n",
       "      <td>Min value:</td>\n",
       "      <td>1</td>\n",
       "      <td>1</td>\n",
       "      <td>1</td>\n",
       "      <td>1</td>\n",
       "    </tr>\n",
       "    <tr>\n",
       "      <td>Max value:</td>\n",
       "      <td>25</td>\n",
       "      <td>25</td>\n",
       "      <td>25</td>\n",
       "      <td>25</td>\n",
       "    </tr>\n",
       "    <tr>\n",
       "      <td>Min occurance:</td>\n",
       "      <td>4</td>\n",
       "      <td>1</td>\n",
       "      <td>2</td>\n",
       "      <td>1</td>\n",
       "    </tr>\n",
       "    <tr>\n",
       "      <td>Max occurance:</td>\n",
       "      <td>4</td>\n",
       "      <td>1</td>\n",
       "      <td>2</td>\n",
       "      <td>1</td>\n",
       "    </tr>\n",
       "    <tr>\n",
       "      <td>Min lenght</td>\n",
       "      <td>20</td>\n",
       "      <td>5</td>\n",
       "      <td>16</td>\n",
       "      <td>8</td>\n",
       "    </tr>\n",
       "    <tr>\n",
       "      <td>Max lenght</td>\n",
       "      <td>20</td>\n",
       "      <td>5</td>\n",
       "      <td>17</td>\n",
       "      <td>9</td>\n",
       "    </tr>\n",
       "  </tbody>\n",
       "</table>\n",
       "</div>"
      ],
      "text/plain": [
       "                 Train5  Test5  Train3  Test3\n",
       "Min value:            1      1       1      1\n",
       "Max value:           25     25      25     25\n",
       "Min occurance:        4      1       2      1\n",
       "Max occurance:        4      1       2      1\n",
       "Min lenght           20      5      16      8\n",
       "Max lenght           20      5      17      9"
      ]
     },
     "execution_count": 44,
     "metadata": {},
     "output_type": "execute_result"
    }
   ],
   "source": [
    "# let's make sure how the values are distributes between the sets; Also we will create function so that we can repeat\n",
    "def kfold_stats(df, name):\n",
    "    s =  pd.Series({\"Min value: \": df[\"x\"].min(),\n",
    "              \"Max value: \": df[\"x\"].max(),\n",
    "              \"Min occurance: \": df[\"x\"].value_counts().min(),\n",
    "              \"Max occurance: \": df[\"x\"].value_counts().max(),\n",
    "               \"Min lenght\": df.groupby(\"val\").count().min().values[0],\n",
    "               \"Max lenght\": df.groupby(\"val\").count().max().values[0]})\n",
    "    s.name = name\n",
    "    return s\n",
    "pd.concat([kfold_stats(train5, \"Train5\"), kfold_stats(test5,\"Test5\"),\n",
    "          kfold_stats(train3, \"Train3\"), kfold_stats(test3,\"Test3\")], \n",
    "          axis=1)"
   ]
  },
  {
   "cell_type": "markdown",
   "metadata": {},
   "source": [
    "The table above summarizes some key facts about the KFold:\n",
    "\n",
    "* `Min and Max value` - both train and test cover all the features\n",
    "* `Min and Max occurrence`- each value occurs once in the test set and k-1 times in the train set\n",
    "* `Min and Max value length` - in case you have a number of features which is not dividable by n, some will have different split between test and train sets. E.g. in case of 25 features and 3 split the ratios as 16/9, 17/8, 17/8"
   ]
  },
  {
   "cell_type": "markdown",
   "metadata": {},
   "source": [
    "## Shuffled KFold\n",
    "In the previous example, you have seen the unshuffled train/test distribution. Such distribution can influence the result of the machine learning model so it is often useful to split the features randomly in order to prove the abilities of your model. A random split of the data is achieved by the `shuffle` parameter. `random-state` parameter initiates the randomizer the way that using the same random state ensures the same split. "
   ]
  },
  {
   "cell_type": "code",
   "execution_count": 45,
   "metadata": {},
   "outputs": [],
   "source": [
    "kf42 = KFold(n_splits=5, shuffle=True, random_state=42)\n",
    "kf123 = KFold(n_splits=5, shuffle=True, random_state=123)"
   ]
  },
  {
   "cell_type": "code",
   "execution_count": 46,
   "metadata": {},
   "outputs": [
    {
     "data": {
      "image/png": "[encoded data removed]",
      "text/plain": [
       "<Figure size 1080x360 with 2 Axes>"
      ]
     },
     "metadata": {
      "needs_background": "light"
     },
     "output_type": "display_data"
    }
   ],
   "source": [
    "train42, test42 = kfoldize(kf42,rn)\n",
    "train123, test123 = kfoldize(kf123,rn)\n",
    "train123_2, test123_2 = kfoldize(kf123,rn,shift=.25)\n",
    "\n",
    "fig,ax = plt.subplots(1,2, figsize=(15,5))\n",
    "ax[0].scatter(x=\"x\",y=\"val\",c=\"b\",label=\"train\",s=15,data=train42) \n",
    "ax[0].scatter(x=\"x\",y=\"val\",c=\"r\",label=\"test\",s=15,data=test42)\n",
    "ax[1].scatter(x=\"x\",y=\"val\",c=\"b\",label=\"train\",s=15,data=train123)\n",
    "ax[1].scatter(x=\"x\",y=\"val\",c=\"r\",label=\"test\",s=15,data=test123)\n",
    "ax[1].scatter(x=\"x\",y=\"val\",c=\"k\",label=\"test second run\",s=15,data=test123_2)\n",
    "ax[0].set_ylabel(\"Kfold\")\n",
    "ax[0].set_xlabel(\"feature\")\n",
    "ax[0].set_title(\"Shuffled KFold with random state 42\")\n",
    "ax[1].set_ylabel(\"Kfold\")\n",
    "ax[1].set_xlabel(\"feature\")\n",
    "ax[1].set_title(\"Shuffled KFold with random state 123\")\n",
    "plt.suptitle(\"Shuffled KFold\")\n",
    "plt.legend(bbox_to_anchor=(1.05, 1))\n",
    "plt.show()"
   ]
  },
  {
   "cell_type": "markdown",
   "metadata": {},
   "source": [
    "## Kfold on the real dataset\n",
    "Let's use the Kfold to evaluate a classification model on the popular Iris Dataset. It contains 150 mesaurement of petal and sepal sizes of the 3 varietals of Iris flower - setosa, versicolor and virginica. Each contains 50 measurement in the set. \n",
    "\n",
    "Iris dataset on scikit-learn: https://scikit-learn.org/stable/auto_examples/datasets/plot_iris_dataset.html"
   ]
  },
  {
   "cell_type": "code",
   "execution_count": 47,
   "metadata": {},
   "outputs": [
    {
     "data": {
      "text/html": [
       "<div>\n",
       "<style scoped>\n",
       "    .dataframe tbody tr th:only-of-type {\n",
       "        vertical-align: middle;\n",
       "    }\n",
       "\n",
       "    .dataframe tbody tr th {\n",
       "        vertical-align: top;\n",
       "    }\n",
       "\n",
       "    .dataframe thead th {\n",
       "        text-align: right;\n",
       "    }\n",
       "</style>\n",
       "<table border=\"1\" class=\"dataframe\">\n",
       "  <thead>\n",
       "    <tr style=\"text-align: right;\">\n",
       "      <th></th>\n",
       "      <th>sepal length (cm)</th>\n",
       "      <th>sepal width (cm)</th>\n",
       "      <th>petal length (cm)</th>\n",
       "      <th>petal width (cm)</th>\n",
       "      <th>target</th>\n",
       "      <th>target_name</th>\n",
       "    </tr>\n",
       "  </thead>\n",
       "  <tbody>\n",
       "    <tr>\n",
       "      <td>6</td>\n",
       "      <td>4.6</td>\n",
       "      <td>3.4</td>\n",
       "      <td>1.4</td>\n",
       "      <td>0.3</td>\n",
       "      <td>0</td>\n",
       "      <td>setosa</td>\n",
       "    </tr>\n",
       "    <tr>\n",
       "      <td>9</td>\n",
       "      <td>4.9</td>\n",
       "      <td>3.1</td>\n",
       "      <td>1.5</td>\n",
       "      <td>0.1</td>\n",
       "      <td>0</td>\n",
       "      <td>setosa</td>\n",
       "    </tr>\n",
       "    <tr>\n",
       "      <td>42</td>\n",
       "      <td>4.4</td>\n",
       "      <td>3.2</td>\n",
       "      <td>1.3</td>\n",
       "      <td>0.2</td>\n",
       "      <td>0</td>\n",
       "      <td>setosa</td>\n",
       "    </tr>\n",
       "    <tr>\n",
       "      <td>1</td>\n",
       "      <td>4.9</td>\n",
       "      <td>3.0</td>\n",
       "      <td>1.4</td>\n",
       "      <td>0.2</td>\n",
       "      <td>0</td>\n",
       "      <td>setosa</td>\n",
       "    </tr>\n",
       "    <tr>\n",
       "      <td>136</td>\n",
       "      <td>6.3</td>\n",
       "      <td>3.4</td>\n",
       "      <td>5.6</td>\n",
       "      <td>2.4</td>\n",
       "      <td>2</td>\n",
       "      <td>virginica</td>\n",
       "    </tr>\n",
       "  </tbody>\n",
       "</table>\n",
       "</div>"
      ],
      "text/plain": [
       "     sepal length (cm)  sepal width (cm)  petal length (cm)  petal width (cm)  \\\n",
       "6                  4.6               3.4                1.4               0.3   \n",
       "9                  4.9               3.1                1.5               0.1   \n",
       "42                 4.4               3.2                1.3               0.2   \n",
       "1                  4.9               3.0                1.4               0.2   \n",
       "136                6.3               3.4                5.6               2.4   \n",
       "\n",
       "     target target_name  \n",
       "6         0      setosa  \n",
       "9         0      setosa  \n",
       "42        0      setosa  \n",
       "1         0      setosa  \n",
       "136       2   virginica  "
      ]
     },
     "execution_count": 47,
     "metadata": {},
     "output_type": "execute_result"
    }
   ],
   "source": [
    "iris = load_iris(return_X_y=False)\n",
    "iris_df = pd.DataFrame(data=iris.data,columns=iris.feature_names)\n",
    "features = iris['feature_names']\n",
    "iris_df['target'] = iris.target\n",
    "iris_df[\"target_name\"] = iris_df['target'].map({i:name for i,name in enumerate(iris.target_names)})\n",
    "iris_df.sample(5)"
   ]
  },
  {
   "cell_type": "code",
   "execution_count": 48,
   "metadata": {},
   "outputs": [
    {
     "data": {
      "text/html": [
       "<div>\n",
       "<style scoped>\n",
       "    .dataframe tbody tr th:only-of-type {\n",
       "        vertical-align: middle;\n",
       "    }\n",
       "\n",
       "    .dataframe tbody tr th {\n",
       "        vertical-align: top;\n",
       "    }\n",
       "\n",
       "    .dataframe thead th {\n",
       "        text-align: right;\n",
       "    }\n",
       "</style>\n",
       "<table border=\"1\" class=\"dataframe\">\n",
       "  <thead>\n",
       "    <tr style=\"text-align: right;\">\n",
       "      <th></th>\n",
       "      <th>target_name</th>\n",
       "      <th>samples</th>\n",
       "    </tr>\n",
       "  </thead>\n",
       "  <tbody>\n",
       "    <tr>\n",
       "      <td>0</td>\n",
       "      <td>setosa</td>\n",
       "      <td>50</td>\n",
       "    </tr>\n",
       "    <tr>\n",
       "      <td>1</td>\n",
       "      <td>versicolor</td>\n",
       "      <td>50</td>\n",
       "    </tr>\n",
       "    <tr>\n",
       "      <td>2</td>\n",
       "      <td>virginica</td>\n",
       "      <td>50</td>\n",
       "    </tr>\n",
       "  </tbody>\n",
       "</table>\n",
       "</div>"
      ],
      "text/plain": [
       "  target_name  samples\n",
       "0      setosa       50\n",
       "1  versicolor       50\n",
       "2   virginica       50"
      ]
     },
     "execution_count": 48,
     "metadata": {},
     "output_type": "execute_result"
    }
   ],
   "source": [
    "# Let's see how many samples of each iris type we have in our set\n",
    "pd.DataFrame(iris_df.groupby(\"target_name\").size().reset_index()).rename(columns={0:\"samples\"})"
   ]
  },
  {
   "cell_type": "markdown",
   "metadata": {},
   "source": [
    "### Single fold\n",
    "Let's perform logistics regression using traditional train_test_split which will split the data into train and test set, so that each target value appear in both training and testing set similar number of times. "
   ]
  },
  {
   "cell_type": "code",
   "execution_count": 49,
   "metadata": {},
   "outputs": [],
   "source": [
    "# initialize the model\n",
    "model = LogisticRegression(solver=\"liblinear\", multi_class=\"auto\")"
   ]
  },
  {
   "cell_type": "code",
   "execution_count": 50,
   "metadata": {},
   "outputs": [],
   "source": [
    "#Logistic regression without Kfold, just split into 80% train and 20% test set\n",
    "X = iris_df[features]\n",
    "y = iris_df[\"target\"]\n",
    "X_train, X_test, y_train, y_test = train_test_split(X,y, test_size=0.2, random_state=42)"
   ]
  },
  {
   "cell_type": "code",
   "execution_count": 51,
   "metadata": {},
   "outputs": [
    {
     "data": {
      "text/html": [
       "<div>\n",
       "<style scoped>\n",
       "    .dataframe tbody tr th:only-of-type {\n",
       "        vertical-align: middle;\n",
       "    }\n",
       "\n",
       "    .dataframe tbody tr th {\n",
       "        vertical-align: top;\n",
       "    }\n",
       "\n",
       "    .dataframe thead th {\n",
       "        text-align: right;\n",
       "    }\n",
       "</style>\n",
       "<table border=\"1\" class=\"dataframe\">\n",
       "  <thead>\n",
       "    <tr style=\"text-align: right;\">\n",
       "      <th></th>\n",
       "      <th>Accurancy on Train</th>\n",
       "      <th>Accurancy on Test</th>\n",
       "    </tr>\n",
       "  </thead>\n",
       "  <tbody>\n",
       "    <tr>\n",
       "      <td>0</td>\n",
       "      <td>0.958333</td>\n",
       "      <td>1.0</td>\n",
       "    </tr>\n",
       "  </tbody>\n",
       "</table>\n",
       "</div>"
      ],
      "text/plain": [
       "   Accurancy on Train  Accurancy on Test\n",
       "0            0.958333                1.0"
      ]
     },
     "execution_count": 51,
     "metadata": {},
     "output_type": "execute_result"
    }
   ],
   "source": [
    "#Train the model\n",
    "model.fit(X_train, y_train) #Training the model\n",
    "pd.DataFrame({\"Accurancy on Train\":[accuracy_score(y_train, model.predict(X_train))],\n",
    "    \"Accurancy on Test\":[accuracy_score(y_test, model.predict(X_test))]})"
   ]
  },
  {
   "cell_type": "markdown",
   "metadata": {},
   "source": [
    "### KFold\n",
    "Kfold method returns the order of the samples chosen for train and test sets in each fold. On a pandas dataframe we have use to .iloc function to get the correct rows. Because I haven't split the data into X (features) and y (target) I have to also use .loc, to choose the right columns (.loc[:,features]) or simply pick the columns (['target'])"
   ]
  },
  {
   "cell_type": "code",
   "execution_count": 52,
   "metadata": {},
   "outputs": [
    {
     "name": "stdout",
     "output_type": "stream",
     "text": [
      "Accuracy for the fold no. 1 on the test set: 0.0\n",
      "Accuracy for the fold no. 2 on the test set: 0.0\n",
      "Accuracy for the fold no. 3 on the test set: 0.0\n"
     ]
    }
   ],
   "source": [
    "i = 1\n",
    "for train_index, test_index in kf3.split(iris_df):\n",
    "    X_train = iris_df.iloc[train_index].loc[:, features]\n",
    "    X_test = iris_df.iloc[test_index][features]\n",
    "    y_train = iris_df.iloc[train_index].loc[:,'target']\n",
    "    y_test = iris_df.loc[test_index]['target']\n",
    "        \n",
    "    #Train the model\n",
    "    model.fit(X_train, y_train) #Training the model\n",
    "    print(f\"Accuracy for the fold no. {i} on the test set: {accuracy_score(y_test, model.predict(X_test))}\")\n",
    "    i += 1"
   ]
  },
  {
   "cell_type": "markdown",
   "metadata": {},
   "source": [
    "But why the accuracy is each fold **0.0**? The reason is the uniformity of the splits. Since the data are ordered that setosa appears on the first fifty rows of the dataset, followed by versicolor and virginica we have achieved unique distribution of the training set, that it doesn't contain any target expected in the test set. Most machine learning model cannot learn to clasify into a class which it has never seen.  Which is visible on the third split"
   ]
  },
  {
   "cell_type": "code",
   "execution_count": 53,
   "metadata": {},
   "outputs": [
    {
     "data": {
      "image/png": "[encoded data removed]",
      "text/plain": [
       "<Figure size 936x216 with 3 Axes>"
      ]
     },
     "metadata": {
      "needs_background": "light"
     },
     "output_type": "display_data"
    }
   ],
   "source": [
    "target_name = iris_df[\"target\"]\n",
    "\n",
    "fig, ax = plt.subplots(1,3, figsize=(13,3), sharey=True)\n",
    "for i, (train_index, test_index) in enumerate(kf3.split(iris_df)):\n",
    "    ax[i].scatter(x=train_index,y=target_name.iloc[train_index],label =\"train\", c='b')\n",
    "    ax[i].scatter(x=test_index,y=target_name.iloc[test_index], label = \"test\", c='r')\n",
    "    ax[i].set_title(f\"Fold {i+1}\")\n",
    "\n",
    "ax[0].set_yticks([0,1,2])\n",
    "ax[0].set_yticklabels(iris[\"target_names\"])\n",
    "plt.legend(bbox_to_anchor=(1.05, 1))\n",
    "plt.show()"
   ]
  },
  {
   "cell_type": "markdown",
   "metadata": {},
   "source": [
    "## Shuffled KFold\n",
    "One way to get around this issue is to use the shuffled Kfold"
   ]
  },
  {
   "cell_type": "code",
   "execution_count": 58,
   "metadata": {},
   "outputs": [
    {
     "name": "stdout",
     "output_type": "stream",
     "text": [
      "Accuracy for the fold no. 1 on the test set: 0.98\n",
      "Accuracy for the fold no. 2 on the test set: 0.94\n",
      "Accuracy for the fold no. 3 on the test set: 0.88\n"
     ]
    }
   ],
   "source": [
    "dfs = []\n",
    "kf = KFold(n_splits=3, shuffle=True, random_state=123)\n",
    "i = 1\n",
    "\n",
    "for train_index, test_index in kf.split(iris_df):\n",
    "    X_train = iris_df.iloc[train_index].loc[:, features]\n",
    "    X_test = iris_df.iloc[test_index].loc[:,features]\n",
    "    y_train = iris_df.iloc[train_index].loc[:,'target']\n",
    "    y_test = iris_df.loc[test_index].loc[:,'target']\n",
    "    \n",
    "    #Train the model\n",
    "    model.fit(X_train, y_train) #Training the model\n",
    "    y_pred = model.predict(X_test)\n",
    "    print(f\"Accuracy for the fold no. {i} on the test set: {accuracy_score(y_test, y_pred)}\")\n",
    "    \n",
    "    # how many occurances appear in the train set\n",
    "    s_train = iris_df.iloc[train_index].loc[:,'target_name'].value_counts()\n",
    "    s_train.name = f\"train {i}\"\n",
    "    s_test = iris_df.iloc[test_index].loc[:,'target_name'].value_counts()\n",
    "    s_test.name = f\"test {i}\"\n",
    "    df = pd.concat([s_train, s_test], axis=1, sort=False)\n",
    "    df[\"|\"] = \"|\"\n",
    "    dfs.append(df)\n",
    "    \n",
    "    i += 1"
   ]
  },
  {
   "cell_type": "code",
   "execution_count": 57,
   "metadata": {},
   "outputs": [
    {
     "data": {
      "image/png": "[encoded data removed]",
      "text/plain": [
       "<Figure size 432x288 with 1 Axes>"
      ]
     },
     "metadata": {
      "needs_background": "light"
     },
     "output_type": "display_data"
    }
   ],
   "source": [
    "plt.scatter(x=y_train.index,y=iris_df.iloc[train_index].loc[:,'target_name'],label =\"train\")\n",
    "plt.scatter(x=y_test.index,y=iris_df.iloc[test_index].loc[:,'target_name'], label = \"test\")\n",
    "plt.legend()\n",
    "plt.show()"
   ]
  },
  {
   "cell_type": "markdown",
   "metadata": {},
   "source": [
    "You can see that now we pick samples from all three types of irises, however some are chosen more often than others. "
   ]
  },
  {
   "cell_type": "code",
   "execution_count": 59,
   "metadata": {},
   "outputs": [
    {
     "data": {
      "text/html": [
       "<div>\n",
       "<style scoped>\n",
       "    .dataframe tbody tr th:only-of-type {\n",
       "        vertical-align: middle;\n",
       "    }\n",
       "\n",
       "    .dataframe tbody tr th {\n",
       "        vertical-align: top;\n",
       "    }\n",
       "\n",
       "    .dataframe thead th {\n",
       "        text-align: right;\n",
       "    }\n",
       "</style>\n",
       "<table border=\"1\" class=\"dataframe\">\n",
       "  <thead>\n",
       "    <tr style=\"text-align: right;\">\n",
       "      <th></th>\n",
       "      <th>train 1</th>\n",
       "      <th>test 1</th>\n",
       "      <th>|</th>\n",
       "      <th>train 2</th>\n",
       "      <th>test 2</th>\n",
       "      <th>|</th>\n",
       "      <th>train 3</th>\n",
       "      <th>test 3</th>\n",
       "      <th>|</th>\n",
       "    </tr>\n",
       "  </thead>\n",
       "  <tbody>\n",
       "    <tr>\n",
       "      <td>versicolor</td>\n",
       "      <td>39</td>\n",
       "      <td>11</td>\n",
       "      <td>|</td>\n",
       "      <td>33</td>\n",
       "      <td>17</td>\n",
       "      <td>|</td>\n",
       "      <td>28</td>\n",
       "      <td>22</td>\n",
       "      <td>|</td>\n",
       "    </tr>\n",
       "    <tr>\n",
       "      <td>virginica</td>\n",
       "      <td>31</td>\n",
       "      <td>19</td>\n",
       "      <td>|</td>\n",
       "      <td>35</td>\n",
       "      <td>15</td>\n",
       "      <td>|</td>\n",
       "      <td>34</td>\n",
       "      <td>16</td>\n",
       "      <td>|</td>\n",
       "    </tr>\n",
       "    <tr>\n",
       "      <td>setosa</td>\n",
       "      <td>30</td>\n",
       "      <td>20</td>\n",
       "      <td>|</td>\n",
       "      <td>32</td>\n",
       "      <td>18</td>\n",
       "      <td>|</td>\n",
       "      <td>38</td>\n",
       "      <td>12</td>\n",
       "      <td>|</td>\n",
       "    </tr>\n",
       "  </tbody>\n",
       "</table>\n",
       "</div>"
      ],
      "text/plain": [
       "            train 1  test 1  |  train 2  test 2  |  train 3  test 3  |\n",
       "versicolor       39      11  |       33      17  |       28      22  |\n",
       "virginica        31      19  |       35      15  |       34      16  |\n",
       "setosa           30      20  |       32      18  |       38      12  |"
      ]
     },
     "execution_count": 59,
     "metadata": {},
     "output_type": "execute_result"
    }
   ],
   "source": [
    "pd.concat(dfs,axis=1, sort=False)"
   ]
  },
  {
   "cell_type": "markdown",
   "metadata": {},
   "source": [
    "## Stratified KFold"
   ]
  },
  {
   "cell_type": "markdown",
   "metadata": {},
   "source": [
    "Instead of using random Kfold, we can use StratifiedKFold which needs extra parameter `y`. As `y` you use the target variable so that the Kfold and pick balanced distribution of the targets in each folds."
   ]
  },
  {
   "cell_type": "code",
   "execution_count": 61,
   "metadata": {},
   "outputs": [
    {
     "name": "stdout",
     "output_type": "stream",
     "text": [
      "Accuracy for the fold no. 1 on the test set: 1.0, doublecheck: 1.0\n",
      "Accuracy for the fold no. 2 on the test set: 0.9215686274509803, doublecheck: 0.9215686274509803\n",
      "Accuracy for the fold no. 3 on the test set: 0.9583333333333334, doublecheck: 0.9583333333333334\n"
     ]
    }
   ],
   "source": [
    "dfs = []\n",
    "kf = StratifiedKFold(n_splits=3, shuffle=True, random_state=123)\n",
    "i = 1\n",
    "for train_index, test_index in kf.split(iris_df, iris_df[\"target\"]):\n",
    "    X_train = iris_df.iloc[train_index].loc[:, features]\n",
    "    X_test = iris_df.iloc[test_index].loc[:,features]\n",
    "    y_train = iris_df.iloc[train_index].loc[:,'target']\n",
    "    y_test = iris_df.loc[test_index].loc[:,'target']\n",
    "\n",
    "    #Train the model\n",
    "    model.fit(X_train, y_train) #Training the model\n",
    "    print(f\"Accuracy for the fold no. {i} on the test set: {accuracy_score(y_test, model.predict(X_test))}, doublecheck: {model.score(X_test,y_test)}\")\n",
    "    \n",
    "    # how many occurances appear in the train set\n",
    "    s_train = iris_df.iloc[train_index].loc[:,'target_name'].value_counts()\n",
    "    s_train.name = f\"train {i}\"\n",
    "    s_test = iris_df.iloc[test_index].loc[:,'target_name'].value_counts()\n",
    "    s_test.name = f\"test {i}\"\n",
    "    df = pd.concat([s_train, s_test], axis=1, sort=False)\n",
    "    df[\"|\"] = \"|\"\n",
    "    dfs.append(df)\n",
    "    \n",
    "    i += 1"
   ]
  },
  {
   "cell_type": "code",
   "execution_count": 62,
   "metadata": {},
   "outputs": [
    {
     "data": {
      "image/png": "[encoded data removed]",
      "text/plain": [
       "<Figure size 432x288 with 1 Axes>"
      ]
     },
     "metadata": {
      "needs_background": "light"
     },
     "output_type": "display_data"
    }
   ],
   "source": [
    "plt.scatter(x=y_train.index,y=iris_df.iloc[train_index].loc[:,'target_name'],label =\"train\")\n",
    "plt.scatter(x=y_test.index,y=iris_df.iloc[test_index].loc[:,'target_name'], label = \"test\")\n",
    "plt.legend()\n",
    "plt.title(\"Sshuffled stratified StratifiedKFold - 3rd Fold\")\n",
    "plt.show()"
   ]
  },
  {
   "cell_type": "code",
   "execution_count": 63,
   "metadata": {},
   "outputs": [
    {
     "data": {
      "text/html": [
       "<div>\n",
       "<style scoped>\n",
       "    .dataframe tbody tr th:only-of-type {\n",
       "        vertical-align: middle;\n",
       "    }\n",
       "\n",
       "    .dataframe tbody tr th {\n",
       "        vertical-align: top;\n",
       "    }\n",
       "\n",
       "    .dataframe thead th {\n",
       "        text-align: right;\n",
       "    }\n",
       "</style>\n",
       "<table border=\"1\" class=\"dataframe\">\n",
       "  <thead>\n",
       "    <tr style=\"text-align: right;\">\n",
       "      <th></th>\n",
       "      <th>train 1</th>\n",
       "      <th>test 1</th>\n",
       "      <th>|</th>\n",
       "      <th>train 2</th>\n",
       "      <th>test 2</th>\n",
       "      <th>|</th>\n",
       "      <th>train 3</th>\n",
       "      <th>test 3</th>\n",
       "      <th>|</th>\n",
       "    </tr>\n",
       "  </thead>\n",
       "  <tbody>\n",
       "    <tr>\n",
       "      <td>versicolor</td>\n",
       "      <td>33</td>\n",
       "      <td>17</td>\n",
       "      <td>|</td>\n",
       "      <td>33</td>\n",
       "      <td>17</td>\n",
       "      <td>|</td>\n",
       "      <td>34</td>\n",
       "      <td>16</td>\n",
       "      <td>|</td>\n",
       "    </tr>\n",
       "    <tr>\n",
       "      <td>setosa</td>\n",
       "      <td>33</td>\n",
       "      <td>17</td>\n",
       "      <td>|</td>\n",
       "      <td>33</td>\n",
       "      <td>17</td>\n",
       "      <td>|</td>\n",
       "      <td>34</td>\n",
       "      <td>16</td>\n",
       "      <td>|</td>\n",
       "    </tr>\n",
       "    <tr>\n",
       "      <td>virginica</td>\n",
       "      <td>33</td>\n",
       "      <td>17</td>\n",
       "      <td>|</td>\n",
       "      <td>33</td>\n",
       "      <td>17</td>\n",
       "      <td>|</td>\n",
       "      <td>34</td>\n",
       "      <td>16</td>\n",
       "      <td>|</td>\n",
       "    </tr>\n",
       "  </tbody>\n",
       "</table>\n",
       "</div>"
      ],
      "text/plain": [
       "            train 1  test 1  |  train 2  test 2  |  train 3  test 3  |\n",
       "versicolor       33      17  |       33      17  |       34      16  |\n",
       "setosa           33      17  |       33      17  |       34      16  |\n",
       "virginica        33      17  |       33      17  |       34      16  |"
      ]
     },
     "execution_count": 63,
     "metadata": {},
     "output_type": "execute_result"
    }
   ],
   "source": [
    "pd.concat(dfs,axis=1, sort=False)"
   ]
  },
  {
   "cell_type": "markdown",
   "metadata": {},
   "source": [
    "## Cross Validation without KFold\n",
    "If you don't want to play with the split data, you don't have to do KFolds, cross_validate or cross_val_score will train using your data and prefered number of splits and give you the score on the testing set. "
   ]
  },
  {
   "cell_type": "code",
   "execution_count": 66,
   "metadata": {},
   "outputs": [
    {
     "name": "stdout",
     "output_type": "stream",
     "text": [
      "Accuracy for the fold no. 0 on the test set: 0.9607843137254902\n",
      "Accuracy for the fold no. 1 on the test set: 0.9215686274509803\n",
      "Accuracy for the fold no. 2 on the test set: 0.9583333333333334\n"
     ]
    }
   ],
   "source": [
    "# cross_validate allow to specify metrics which you want to see\n",
    "for i, score in enumerate(cross_validate(model, X,y, cv=3)[\"test_score\"]):\n",
    "    print(f\"Accuracy for the fold no. {i} on the test set: {score}\")"
   ]
  },
  {
   "cell_type": "code",
   "execution_count": 25,
   "metadata": {},
   "outputs": [
    {
     "name": "stdout",
     "output_type": "stream",
     "text": [
      "Accuracy for the fold no. 0 on the test set: 0.9607843137254902\n",
      "Accuracy for the fold no. 1 on the test set: 0.9215686274509803\n",
      "Accuracy for the fold no. 2 on the test set: 0.9583333333333334\n"
     ]
    }
   ],
   "source": [
    "for i, score in enumerate(cross_val_score(model, X,y, cv=3)):\n",
    "    print(f\"Accuracy for the fold no. {i} on the test set: {score}\")"
   ]
  },
  {
   "cell_type": "markdown",
   "metadata": {},
   "source": [
    "## How are the input features distributed"
   ]
  },
  {
   "cell_type": "code",
   "execution_count": 26,
   "metadata": {},
   "outputs": [],
   "source": [
    "# In order to have see how the KFold distributes the features let's have a look on titanic dataset\n",
    "titanic = pd.read_csv(r'titanic.csv').sort_values(by=\"Sex\")\n",
    "dfs = []\n",
    "\n",
    "kf = StratifiedKFold(n_splits=3, shuffle=False, random_state=123)\n",
    "i = 1\n",
    "for train_index, test_index in kf.split(titanic, titanic[\"Survived\"]):\n",
    "    X_train = titanic.iloc[train_index].drop(columns=[\"Survived\"])\n",
    "    X_test = titanic.iloc[test_index].drop(columns=[\"Survived\"])\n",
    "    y_train = titanic.iloc[train_index].loc[:,'Survived']\n",
    "    y_test = titanic.loc[test_index].loc[:,'Survived']\n",
    "    \n",
    "    #Train the model\n",
    "    #model.fit(X_train, y_train) #Training the model\n",
    "    #print(f\"Accuracy for the fold no. {i} on the test set: {accuracy_score(y_test, model.predict(X_test))}, doublecheck: {model.score(X_test,y_test)}\")\n",
    "    \n",
    "    # how many occurances appear in the train set\n",
    "    s_pclass = titanic.iloc[train_index].loc[:,'Pclass'].value_counts()\n",
    "    s_pclass.index = [f\"Pclass: {v}\" for v in s_pclass.index]\n",
    "    s_sex = titanic.iloc[train_index].loc[:,'Sex'].value_counts()\n",
    "    s_sex.index = [f\"Sex: {v}\" for v in s_sex.index]\n",
    "    s = pd.concat([s_pclass, s_sex], axis=0, sort=False)\n",
    "    s.name = f\"Fold {i}\"\n",
    "    dfs.append(s)\n",
    "    \n",
    "    i += 1"
   ]
  },
  {
   "cell_type": "code",
   "execution_count": 27,
   "metadata": {},
   "outputs": [
    {
     "data": {
      "text/html": [
       "<div>\n",
       "<style scoped>\n",
       "    .dataframe tbody tr th:only-of-type {\n",
       "        vertical-align: middle;\n",
       "    }\n",
       "\n",
       "    .dataframe tbody tr th {\n",
       "        vertical-align: top;\n",
       "    }\n",
       "\n",
       "    .dataframe thead th {\n",
       "        text-align: right;\n",
       "    }\n",
       "</style>\n",
       "<table border=\"1\" class=\"dataframe\">\n",
       "  <thead>\n",
       "    <tr style=\"text-align: right;\">\n",
       "      <th></th>\n",
       "      <th>Fold 1</th>\n",
       "      <th>Fold 2</th>\n",
       "      <th>Fold 3</th>\n",
       "    </tr>\n",
       "  </thead>\n",
       "  <tbody>\n",
       "    <tr>\n",
       "      <td>Pclass: 3</td>\n",
       "      <td>319</td>\n",
       "      <td>336</td>\n",
       "      <td>327</td>\n",
       "    </tr>\n",
       "    <tr>\n",
       "      <td>Pclass: 1</td>\n",
       "      <td>154</td>\n",
       "      <td>149</td>\n",
       "      <td>129</td>\n",
       "    </tr>\n",
       "    <tr>\n",
       "      <td>Pclass: 2</td>\n",
       "      <td>121</td>\n",
       "      <td>109</td>\n",
       "      <td>138</td>\n",
       "    </tr>\n",
       "    <tr>\n",
       "      <td>Sex: male</td>\n",
       "      <td>475</td>\n",
       "      <td>394</td>\n",
       "      <td>285</td>\n",
       "    </tr>\n",
       "    <tr>\n",
       "      <td>Sex: female</td>\n",
       "      <td>119</td>\n",
       "      <td>200</td>\n",
       "      <td>309</td>\n",
       "    </tr>\n",
       "  </tbody>\n",
       "</table>\n",
       "</div>"
      ],
      "text/plain": [
       "             Fold 1  Fold 2  Fold 3\n",
       "Pclass: 3       319     336     327\n",
       "Pclass: 1       154     149     129\n",
       "Pclass: 2       121     109     138\n",
       "Sex: male       475     394     285\n",
       "Sex: female     119     200     309"
      ]
     },
     "execution_count": 27,
     "metadata": {},
     "output_type": "execute_result"
    }
   ],
   "source": [
    "pd.concat(dfs,axis=1, sort=False)"
   ]
  },
  {
   "cell_type": "markdown",
   "metadata": {},
   "source": [
    "## Lets explore other Cross-validation methods"
   ]
  },
  {
   "cell_type": "markdown",
   "metadata": {},
   "source": [
    "### Repeated KFold"
   ]
  },
  {
   "cell_type": "code",
   "execution_count": 28,
   "metadata": {},
   "outputs": [],
   "source": [
    "from sklearn.model_selection import RepeatedKFold\n",
    "\n",
    "kf42 = KFold(n_splits=3, shuffle=True, random_state=42)\n",
    "krf42 = RepeatedKFold(n_splits=3, n_repeats=2, random_state=42)"
   ]
  },
  {
   "cell_type": "code",
   "execution_count": 29,
   "metadata": {},
   "outputs": [
    {
     "data": {
      "image/png": "[encoded data removed]",
      "text/plain": [
       "<Figure size 1080x360 with 2 Axes>"
      ]
     },
     "metadata": {
      "needs_background": "light"
     },
     "output_type": "display_data"
    }
   ],
   "source": [
    "train42, test42 = kfoldize(kf42,rn)\n",
    "train123, test123 = kfoldize(krf42,rn)\n",
    "#train123_2, test123_2 = kfoldize(kf123,rn,shift=.25)\n",
    "\n",
    "fig,ax = plt.subplots(1,2, figsize=(15,5), sharey=True)\n",
    "ax[0].scatter(x=\"x\",y=\"val\",c=\"b\",label=\"train\",s=15,data=train42) \n",
    "ax[0].scatter(x=\"x\",y=\"val\",c=\"r\",label=\"test\",s=15,data=test42)\n",
    "ax[1].scatter(x=\"x\",y=\"val\",c=\"b\",label=\"train\",s=15,data=train123)\n",
    "ax[1].scatter(x=\"x\",y=\"val\",c=\"r\",label=\"test\",s=15,data=test123)\n",
    "#ax[1].scatter(x=\"x\",y=\"val\",c=\"k\",label=\"test second run\",s=15,data=test123_2)\n",
    "ax[0].set_ylabel(\"Kfold\")\n",
    "ax[0].set_xlabel(\"feature\")\n",
    "ax[0].set_title(\"Shuffled KFold with random state 42\")\n",
    "ax[1].set_ylabel(\"Kfold\")\n",
    "ax[1].set_xlabel(\"feature\")\n",
    "ax[1].set_title(\"RepeatedKFold with random state 42\")\n",
    "plt.suptitle(\"Shuffled KFold\")\n",
    "plt.legend(bbox_to_anchor=(1.05, 1))\n",
    "plt.show()"
   ]
  },
  {
   "cell_type": "markdown",
   "metadata": {},
   "source": [
    "RepeatedKFold is shufled per design. The first repeatition is the same like shuffled KFold having the same `random-state` and the next repetitions are creating yet another combination of the train-test split. "
   ]
  },
  {
   "cell_type": "markdown",
   "metadata": {},
   "source": [
    "### ShuffleSplit\n",
    "https://scikit-learn.org/stable/modules/cross_validation.html#random-permutations-cross-validation-a-k-a-shuffle-split"
   ]
  },
  {
   "cell_type": "code",
   "execution_count": 34,
   "metadata": {},
   "outputs": [],
   "source": [
    "from sklearn.model_selection import ShuffleSplit\n",
    "\n",
    "kf42 = KFold(n_splits=3, shuffle=True, random_state=42)\n",
    "ss = ShuffleSplit(n_splits=3, test_size=0.5, random_state=42)"
   ]
  },
  {
   "cell_type": "code",
   "execution_count": 35,
   "metadata": {},
   "outputs": [
    {
     "data": {
      "image/png": "[encoded data removed]",
      "text/plain": [
       "<Figure size 1080x360 with 2 Axes>"
      ]
     },
     "metadata": {
      "needs_background": "light"
     },
     "output_type": "display_data"
    }
   ],
   "source": [
    "train42, test42 = kfoldize(kf42,rn)\n",
    "train123, test123 = kfoldize(ss,rn)\n",
    "\n",
    "fig,ax = plt.subplots(1,2, figsize=(15,5), sharey=True)\n",
    "ax[0].scatter(x=\"x\",y=\"val\",c=\"b\",label=\"train\",s=15,data=train42) \n",
    "ax[0].scatter(x=\"x\",y=\"val\",c=\"r\",label=\"test\",s=15,data=test42)\n",
    "ax[1].scatter(x=\"x\",y=\"val\",c=\"b\",label=\"train\",s=15,data=train123)\n",
    "ax[1].scatter(x=\"x\",y=\"val\",c=\"r\",label=\"test\",s=15,data=test123)\n",
    "ax[0].set_ylabel(\"Kfold\")\n",
    "ax[0].set_xlabel(\"feature\")\n",
    "ax[0].set_title(\"Shuffled KFold with random state 42\")\n",
    "ax[1].set_ylabel(\"Kfold\")\n",
    "ax[1].set_xlabel(\"feature\")\n",
    "ax[1].set_title(\"ShuffleSplit with random state 42 and 50% samples in the test set\")\n",
    "plt.suptitle(\"Comparison of KFold and ShuffleSplit\")\n",
    "plt.legend(bbox_to_anchor=(1.05, 1))\n",
    "plt.show()"
   ]
  },
  {
   "cell_type": "markdown",
   "metadata": {},
   "source": [
    "While KFold makes sure that each sample appears once in the test set, with ShuffleSplit you specify how many samples are in the test set. Stratified Shuffle Split would consider distribution of a taget variable. "
   ]
  },
  {
   "cell_type": "markdown",
   "metadata": {},
   "source": [
    "### Leave One Out"
   ]
  },
  {
   "cell_type": "code",
   "execution_count": 30,
   "metadata": {},
   "outputs": [],
   "source": [
    "from sklearn.model_selection import LeaveOneOut\n",
    "\n",
    "kf42 = KFold(n_splits=3, shuffle=True, random_state=42)\n",
    "loo = LeaveOneOut()"
   ]
  },
  {
   "cell_type": "code",
   "execution_count": 31,
   "metadata": {},
   "outputs": [
    {
     "data": {
      "image/png": "[encoded data removed]",
      "text/plain": [
       "<Figure size 1080x360 with 2 Axes>"
      ]
     },
     "metadata": {
      "needs_background": "light"
     },
     "output_type": "display_data"
    }
   ],
   "source": [
    "train42, test42 = kfoldize(kf42,rn)\n",
    "train123, test123 = kfoldize(loo,rn)\n",
    "\n",
    "fig,ax = plt.subplots(1,2, figsize=(15,5), sharey=True)\n",
    "ax[0].scatter(x=\"x\",y=\"val\",c=\"b\",label=\"train\",s=15,data=train42) \n",
    "ax[0].scatter(x=\"x\",y=\"val\",c=\"r\",label=\"test\",s=15,data=test42)\n",
    "ax[1].scatter(x=\"x\",y=\"val\",c=\"b\",label=\"train\",s=15,data=train123)\n",
    "ax[1].scatter(x=\"x\",y=\"val\",c=\"r\",label=\"test\",s=15,data=test123)\n",
    "#ax[1].scatter(x=\"x\",y=\"val\",c=\"k\",label=\"test second run\",s=15,data=test123_2)\n",
    "ax[0].set_ylabel(\"Kfold\")\n",
    "ax[0].set_xlabel(\"feature\")\n",
    "ax[0].set_title(\"Shuffled KFold with random state 42\")\n",
    "ax[1].set_ylabel(\"Kfold\")\n",
    "ax[1].set_xlabel(\"feature\")\n",
    "ax[1].set_title(\"LeaveOneOut on range 1 to 25\")\n",
    "plt.suptitle(\"Comparison of KFold and LeaveOneOut\")\n",
    "plt.legend(bbox_to_anchor=(1.05, 1))\n",
    "plt.show()"
   ]
  },
  {
   "cell_type": "markdown",
   "metadata": {},
   "source": [
    "Leave One Out does what it says, it leaves only a single observation as a test sample. \n",
    "\n",
    "Scikit documentation discuss this topics and suggest: \"As a general rule, most authors, and empirical evidence, suggest that 5- or 10- fold cross validation should be preferred to LOO.\"\n",
    "More info: https://scikit-learn.org/stable/modules/cross_validation.html#leave-one-out-loo"
   ]
  },
  {
   "cell_type": "markdown",
   "metadata": {},
   "source": [
    "\n",
    "### Leave P Out\n",
    "https://scikit-learn.org/stable/modules/cross_validation.html#leave-p-out-lpo"
   ]
  },
  {
   "cell_type": "code",
   "execution_count": 32,
   "metadata": {},
   "outputs": [],
   "source": [
    "from sklearn.model_selection import LeavePOut\n",
    "\n",
    "kf42 = KFold(n_splits=3, shuffle=True, random_state=42)\n",
    "lpo = LeavePOut(p=2)"
   ]
  },
  {
   "cell_type": "code",
   "execution_count": 33,
   "metadata": {},
   "outputs": [
    {
     "data": {
      "image/png": "[encoded data removed]",
      "text/plain": [
       "<Figure size 1080x360 with 2 Axes>"
      ]
     },
     "metadata": {
      "needs_background": "light"
     },
     "output_type": "display_data"
    }
   ],
   "source": [
    "train42, test42 = kfoldize(kf42,rn)\n",
    "train123, test123 = kfoldize(lpo,rn)\n",
    "\n",
    "fig,ax = plt.subplots(1,2, figsize=(15,5), sharey=True)\n",
    "ax[0].scatter(x=\"x\",y=\"val\",c=\"b\",label=\"train\",s=15,data=train42) \n",
    "ax[0].scatter(x=\"x\",y=\"val\",c=\"r\",label=\"test\",s=15,data=test42)\n",
    "ax[1].scatter(x=\"x\",y=\"val\",c=\"b\",label=\"train\",s=15,data=train123)\n",
    "ax[1].scatter(x=\"x\",y=\"val\",c=\"r\",label=\"test\",s=15,data=test123)\n",
    "ax[0].set_ylabel(\"Kfold\")\n",
    "ax[0].set_xlabel(\"feature\")\n",
    "ax[0].set_title(\"Shuffled KFold with random state 42\")\n",
    "ax[1].set_ylabel(\"Kfold\")\n",
    "ax[1].set_xlabel(\"feature\")\n",
    "ax[1].set_title(\"LeavePOut with p = 2 on range 1 to 25\")\n",
    "plt.suptitle(\"Comparison of KFold and LeavePOut\")\n",
    "plt.legend(bbox_to_anchor=(1.05, 1))\n",
    "plt.show()"
   ]
  },
  {
   "cell_type": "markdown",
   "metadata": {},
   "source": [
    "Leave P out creates ${n \\choose p}$ combination, so in our example ${25 \\choose 2} = 300$ "
   ]
  },
  {
   "cell_type": "markdown",
   "metadata": {},
   "source": [
    "# Conclusion\n",
    "In this example we have reviewed how the Sklearn Kfold method works. We see that it splits the data into the `n` number of sets. Each of the features will appear once in the test set and `n-1` times in the training set.\n",
    "\n",
    "Each fold will contain `1/n` values in the training set and `n-1/n` values in the testing set. So for `n=2` 50% will be in the test set, `n=3` 33%, `n=4` 25% etc. \n",
    "\n",
    "We can either split the data uniformly using `shuffle=False` or randomly with `shuffle=True` and optionally stating a `random_state`. Having the same random state will always result in the same split of test and train data."
   ]
  },
  {
   "cell_type": "markdown",
   "metadata": {},
   "source": [
    "it can complement Datacamp course e.g. https://campus.datacamp.com/courses/winning-a-kaggle-competition-in-python/dive-into-the-competition?ex=8"
   ]
  }
 ],
 "metadata": {
  "kernelspec": {
   "display_name": "Python 3",
   "language": "python",
   "name": "python3"
  },
  "language_info": {
   "codemirror_mode": {
    "name": "ipython",
    "version": 3
   },
   "file_extension": ".py",
   "mimetype": "text/x-python",
   "name": "python",
   "nbconvert_exporter": "python",
   "pygments_lexer": "ipython3",
   "version": "3.7.4"
  }
 },
 "nbformat": 4,
 "nbformat_minor": 2
}
